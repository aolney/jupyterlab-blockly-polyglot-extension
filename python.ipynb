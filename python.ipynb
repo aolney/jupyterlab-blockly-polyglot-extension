{
 "cells": [
  {
   "cell_type": "code",
   "execution_count": 1,
   "id": "e7695255-3836-4845-95e8-d7ee176a226f",
   "metadata": {},
   "outputs": [],
   "source": [
    "import pandas as pd\n",
    "\n",
    "#<xml xmlns=\"https://developers.google.com/blockly/xml\"><variables><variable id=\"b{bD`!4M@I-:c?]|,LCS\">pd</variable></variables><block type=\"importAs_Python\" id=\"Ot@uba-9.VlNvnQ1[cnN\" x=\"16\" y=\"8\"><field name=\"libraryName\">pandas</field><field name=\"libraryAlias\" id=\"b{bD`!4M@I-:c?]|,LCS\">pd</field></block></xml>"
   ]
  },
  {
   "cell_type": "code",
   "execution_count": null,
   "id": "c066d97e-c300-4961-900c-d5a003d01b27",
   "metadata": {},
   "outputs": [],
   "source": []
  }
 ],
 "metadata": {
  "kernelspec": {
   "display_name": "Python 3 (ipykernel)",
   "language": "python",
   "name": "python3"
  },
  "language_info": {
   "codemirror_mode": {
    "name": "ipython",
    "version": 3
   },
   "file_extension": ".py",
   "mimetype": "text/x-python",
   "name": "python",
   "nbconvert_exporter": "python",
   "pygments_lexer": "ipython3",
   "version": "3.12.4"
  }
 },
 "nbformat": 4,
 "nbformat_minor": 5
}
