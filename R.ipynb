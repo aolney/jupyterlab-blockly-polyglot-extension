{
 "cells": [
  {
   "cell_type": "code",
   "execution_count": null,
   "id": "e73186ca-2440-4ba5-bdb5-ae83abe07604",
   "metadata": {},
   "outputs": [],
   "source": []
  }
 ],
 "metadata": {
  "kernelspec": {
   "display_name": "R",
   "language": "R",
   "name": "ir"
  },
  "language_info": {
   "codemirror_mode": "r",
   "file_extension": ".r",
   "mimetype": "text/x-r-source",
   "name": "R",
   "pygments_lexer": "r",
   "version": "4.3.3"
  }
 },
 "nbformat": 4,
 "nbformat_minor": 5
}
