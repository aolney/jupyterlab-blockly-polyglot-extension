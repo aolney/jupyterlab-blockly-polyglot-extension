{
 "cells": [
  {
   "cell_type": "code",
   "execution_count": 7,
   "id": "e73186ca-2440-4ba5-bdb5-ae83abe07604",
   "metadata": {},
   "outputs": [],
   "source": [
    "library(base)\n",
    "\n",
    "#<xml xmlns=\"https://developers.google.com/blockly/xml\"><variables><variable id=\"I[VjeDK3D9/?yh-G,N++\">base</variable></variables><block type=\"import_R\" id=\"7O/!T@GYgFgHTjGoZ4$M\" x=\"16\" y=\"8\"><field name=\"libraryName\" id=\"I[VjeDK3D9/?yh-G,N++\">base</field></block></xml>"
   ]
  },
  {
   "cell_type": "code",
   "execution_count": null,
   "id": "06e1dd02-355e-4c37-adbf-e628542484b5",
   "metadata": {},
   "outputs": [],
   "source": []
  },
  {
   "cell_type": "code",
   "execution_count": null,
   "id": "dff6d559-0094-4941-9df2-0f1d1ac7fc07",
   "metadata": {},
   "outputs": [],
   "source": []
  }
 ],
 "metadata": {
  "kernelspec": {
   "display_name": "R",
   "language": "R",
   "name": "ir"
  },
  "language_info": {
   "codemirror_mode": "r",
   "file_extension": ".r",
   "mimetype": "text/x-r-source",
   "name": "R",
   "pygments_lexer": "r",
   "version": "4.3.3"
  }
 },
 "nbformat": 4,
 "nbformat_minor": 5
}
